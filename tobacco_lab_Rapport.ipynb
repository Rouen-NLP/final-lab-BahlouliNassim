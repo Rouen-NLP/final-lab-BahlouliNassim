{
 "cells": [
  {
   "cell_type": "markdown",
   "metadata": {},
   "source": [
    "<center><img src=\"SD.jpg \" width=\"1000px\" class=\"imageGauche\" alt=\"sd\" /></center>\n",
    "\n",
    "\n",
    "# <br><center><b style=\"color:#E25033;\"><u>Text Analysis</u></b></center>\n",
    "<center><font size=\"+2\"><b><u>Classification des documents du procès des groupes américains du tabac</u></b> </font></center>\n",
    "\n",
    "<br><br><b>Master2 SID</b><br>\n",
    "Science des Données<br>\n",
    "Année universitaire 2018-2019<br>\n",
    "\n",
    "<b><u> Réalisé par :</u></b> Bahlouli Mohammed Nassim <br>\n",
    "<b><u>Encadré par :</u></b>Mr. Christopher Kermorvant<br>\n",
    "Christopher.Kermorvant@univ-rouen.fr<br><br>\n"
   ]
  },
  {
   "cell_type": "markdown",
   "metadata": {},
   "source": [
    "<br><br><br><b><font size=\"+2\" style=\"color:#E25033;\"><u>1) Contexte :</u> </font></b>"
   ]
  },
  {
   "cell_type": "markdown",
   "metadata": {},
   "source": [
    "Le gouvernement américain a attaqué en justice cinq grands groupes américains du tabac pour avoir amassé d'importants bénéfices en mentant sur les dangers de la cigarette. Le cigarettiers  se sont entendus dès 1953, pour \"mener ensemble une vaste campagne de relations publiques afin de contrer les preuves de plus en plus manifestes d'un lien entre la consommation de tabac et des maladies graves\".\n",
    "Dans ce procès 14 millions de documents ont été collectés et numérisés. Afin de faciliter l'exploitation de ces documents par les avocats, vous êtes en charge de mettre en place une classification automatique des types de documents.\n",
    "Un échantillon aléatoire des documents a été collecté et des opérateurs ont classé les documents dans des répertoires correspondant aux classes de documents : lettres, rapports, notes, email, etc. Nous avons à notre disposition :\n",
    "\n",
    "- les images de documents : http://data.teklia.com/Images/Tobacco3482.tar.gz\n",
    "\n",
    "- le texte contenu dans les documents obtenu par OCR (reconnaissance automatique) : Tobacco3482-OCR.tar.gz  (dans ce git)\n",
    "- les classes des documents définies par des opérateurs : Tobacco3482.csv (dans ce git)"
   ]
  },
  {
   "cell_type": "markdown",
   "metadata": {},
   "source": [
    "<br><br><br><b><font size=\"+2\" style=\"color:#E25033;\"><u>2) Travail demandé :</u> </font></b>"
   ]
  },
  {
   "cell_type": "markdown",
   "metadata": {},
   "source": [
    "On doit mettre en oeuvre une méthodologie de projet de Machine Leaning pour fournir :\n",
    "\n",
    "- une analyse des données\n",
    "- une analyse du problème et un choix justifié de solution\n",
    "- un script python mettant en oeuvre la solution retenue\n",
    "- une analyse des performances de la solution implémentée\n",
    "- des pistes d'améliorations\n",
    "\n",
    "Les analyses seront écrite dans un fichier rapport.md (syntaxe markdown)\n",
    "Notre code doit permettre de réaliser deux fonctions :\n",
    "\n",
    "- entrainer un classifieur\n",
    "- tester un classifieur\n",
    "\n",
    "Notre code doit être auto-suffisant : il doit contenir un script permettant d'executer ces deux fonctions sur le jeu de données automatiquement.\n",
    "<br>Tout notre travail sera commit dans le gitlab du cours (voir invitation)."
   ]
  },
  {
   "cell_type": "markdown",
   "metadata": {},
   "source": [
    "<br><br><br><b><center><font size=\"+3\" style=\"color:#E25033;\"><u>3) Travail réalisé : </u> </font></center></b>"
   ]
  },
  {
   "cell_type": "markdown",
   "metadata": {},
   "source": [
    "<br><b><font size=\"+2\" style=\"color:#239E8B;\"><u>3.1 ) Analyse des données  </u> </font></b> <br>\n"
   ]
  },
  {
   "cell_type": "markdown",
   "metadata": {},
   "source": [
    "14 millions de documents ont été collecté par l'État américain , néanmoins nous disposons seulement d'une partie de ces documents qui est equivalent à ( 3482 documennts). \n",
    "<br>On dispose d'un fichier .csv contenant le chemin vers les images et leurs labels associées , on dispose aussi également d'un fichier contenant les textes de ces images.\n",
    "<br>\n",
    "\n",
    "J'ai commencé par lire et afficher les données : "
   ]
  },
  {
   "cell_type": "markdown",
   "metadata": {},
   "source": [
    "<b><font size=\"+1\"><u>1) lecture des données  </u> </font></b> <br><br>\n",
    "<br> lecture du fichier 'Tobacco3482.csv' qui contient les chemins vers les images ainsi que leurs labels "
   ]
  },
  {
   "cell_type": "code",
   "execution_count": 150,
   "metadata": {},
   "outputs": [
    {
     "name": "stdout",
     "output_type": "stream",
     "text": [
      "                       img_path          label\n",
      "0  Advertisement/0000136188.jpg  Advertisement\n",
      "1  Advertisement/0000435350.jpg  Advertisement\n",
      "2  Advertisement/0000556056.jpg  Advertisement\n",
      "3  Advertisement/0030048095.jpg  Advertisement\n",
      "4  Advertisement/0030048989.jpg  Advertisement\n",
      "5  Advertisement/0030049569.jpg  Advertisement\n",
      "6    Advertisement/03496270.jpg  Advertisement\n",
      "7    Advertisement/03567810.jpg  Advertisement\n",
      "8    Advertisement/03722789.jpg  Advertisement\n",
      "9    Advertisement/04102204.jpg  Advertisement\n"
     ]
    }
   ],
   "source": [
    "import pandas as pd\n",
    "Data= pd.read_csv('Tobacco3482.csv')\n",
    "print(Data[:10])"
   ]
  },
  {
   "cell_type": "markdown",
   "metadata": {},
   "source": [
    "<br><b><font size=\"+1\"><u>2) Affichage des données par label:  </u> </font></b> <br><br>\n",
    "j'ai affiché un diagramme d'apparation de chaque catégorie dans le Dataset\n"
   ]
  },
  {
   "cell_type": "code",
   "execution_count": 151,
   "metadata": {},
   "outputs": [
    {
     "data": {
      "text/plain": [
       "<matplotlib.axes._subplots.AxesSubplot at 0xf1f9438>"
      ]
     },
     "execution_count": 151,
     "metadata": {},
     "output_type": "execute_result"
    },
    {
     "data": {
      "image/png": "[encoded data removed]",
      "text/plain": [
       "<Figure size 432x288 with 1 Axes>"
      ]
     },
     "metadata": {},
     "output_type": "display_data"
    }
   ],
   "source": [
    "import seaborn as sns\n",
    "%matplotlib inline\n",
    "\n",
    "sns.countplot(data=Data,y='label')"
   ]
  },
  {
   "cell_type": "markdown",
   "metadata": {},
   "source": [
    "On remarque que le nombre de données des labels ( Email, Letter ,  memo et Form ) et beaucoup plus elevé que les autres labels(type de documents)\n"
   ]
  },
  {
   "cell_type": "markdown",
   "metadata": {},
   "source": [
    "<br><br><b>j'ai ensuite attribué chaque texte a son label</b>"
   ]
  },
  {
   "cell_type": "code",
   "execution_count": 152,
   "metadata": {},
   "outputs": [],
   "source": [
    "Data_txt=[]\n",
    "Data_txt=Data\n",
    "\n",
    "NB = Data_txt.shape[0]\n",
    "for i in range (NB):\n",
    "    A = Data_txt.get_value(i, 'img_path')\n",
    "    Data_txt.set_value(i, 'img_path', 'Tobacco3482-OCR/'+A)\n",
    "    Data_txt.set_value(i, 'img_path', Data_txt.get_value(i, 'img_path').split('.jpg')[0]+'.txt')\n",
    "    Data_txt.set_value(i, 'img_path',open(Data_txt.get_value(i, 'img_path'), \"r\",encoding=\"utf8\").read())\n"
   ]
  },
  {
   "cell_type": "code",
   "execution_count": 153,
   "metadata": {},
   "outputs": [
    {
     "name": "stdout",
     "output_type": "stream",
     "text": [
      "                                                text          label\n",
      "0  A Mpertant as yar\\nsesiye teaetered cabiieess....  Advertisement\n",
      "1  TE che fitm\\n\\nm66400 7127\\n\\nKOOLS are the on...  Advertisement\n",
      "2  so ARN Rr nr\\n\\nBWR Ga ||\\n\\nVending Operators...  Advertisement\n",
      "3  MARCH 24,19 VO — 3. Tersrearep\\n\\n \\n\\n‘ yi il...  Advertisement\n",
      "4  ~\\n\\nSpend a milder moment qs\\nwith Raleigh.\\n...  Advertisement\n"
     ]
    }
   ],
   "source": [
    "####### attribuer le texte a son label ########\n",
    "Data_txt.columns = ['text','label']\n",
    "print(Data_txt.head())\n"
   ]
  },
  {
   "cell_type": "markdown",
   "metadata": {},
   "source": [
    "<br><br><b>Exemple de texte : </b>"
   ]
  },
  {
   "cell_type": "code",
   "execution_count": 154,
   "metadata": {},
   "outputs": [
    {
     "data": {
      "text/plain": [
       "'DRAFT ADVERTISEMENT\\n\\nthat without the extra\\n11,500,000 tax smokers pay\\n\\neach day, we could be faced with\\nan increase of nearly 5p in the &\\n\\nIssued by the Tobacco Advisory Council, speaking up forsmokers. |\\n\\nGlen House, Stag Place, London SWIE5AG'"
      ]
     },
     "execution_count": 154,
     "metadata": {},
     "output_type": "execute_result"
    }
   ],
   "source": [
    "Data_txt.iloc[11].text"
   ]
  },
  {
   "cell_type": "markdown",
   "metadata": {},
   "source": [
    "<br><br><b><font size=\"+2\" style=\"color:#239E8B;\"><u>3.2)Traitement des données :  </u> </font></b> \n"
   ]
  },
  {
   "cell_type": "markdown",
   "metadata": {},
   "source": [
    "<br><b><font size=\"+1\" style=\"color:#e69900;\"><u>3.2.1) Diviser les données  : </u> </font></b>"
   ]
  },
  {
   "cell_type": "markdown",
   "metadata": {},
   "source": [
    "<br>J'ai commencé par :\n",
    "- Diviser les données en trois ensembles : Données d'apprentissage ,Données de validation , Données de test \n",
    "\n",
    "<br>Comme on ne possède pas d'un grand nombre de données (3482), j'ai choisis donc d'utiliser 60% des données pour l'ensemble d'apprentissage , 20% des données pour l'ensemble de validation et enfin 20% qui restent pour l'ensemble de test\n",
    "\n"
   ]
  },
  {
   "cell_type": "code",
   "execution_count": 155,
   "metadata": {
    "collapsed": true
   },
   "outputs": [],
   "source": [
    "from sklearn.model_selection import train_test_split\n",
    "\n",
    "(X_train,X_app,y_train,y_app) = train_test_split(Data_txt['text'],Data_txt['label'],test_size=0.4)\n",
    "(X_test,X_val,y_test,y_val) = train_test_split(X_app,y_app,test_size=0.5)"
   ]
  },
  {
   "cell_type": "markdown",
   "metadata": {},
   "source": [
    "<br><b>la taille des 3 ensemble : </b>"
   ]
  },
  {
   "cell_type": "code",
   "execution_count": 156,
   "metadata": {},
   "outputs": [
    {
     "name": "stdout",
     "output_type": "stream",
     "text": [
      "Taille des données d apprentissage = 2089 Taille des données de test= 696 Taille des données de validation= 697\n"
     ]
    }
   ],
   "source": [
    "print('Taille des données d apprentissage =',X_train.shape[0],'Taille des données de test=',X_test.shape[0],'Taille des données de validation=',X_val.shape[0])"
   ]
  },
  {
   "cell_type": "code",
   "execution_count": 157,
   "metadata": {},
   "outputs": [
    {
     "name": "stdout",
     "output_type": "stream",
     "text": [
      "1120             Form\n",
      "1438           Letter\n",
      "294             Email\n",
      "473             Email\n",
      "1309           Letter\n",
      "1743           Letter\n",
      "203     Advertisement\n",
      "813             Email\n",
      "928              Form\n",
      "2308             Memo\n",
      "Name: label, dtype: object\n"
     ]
    }
   ],
   "source": [
    "print(y_train[:10])"
   ]
  },
  {
   "cell_type": "markdown",
   "metadata": {},
   "source": [
    "<br><b><font size=\"+1\" style=\"color:#e69900;\"><u>3.2.2) Bag of word : </u> </font></b>"
   ]
  },
  {
   "cell_type": "code",
   "execution_count": 158,
   "metadata": {
    "collapsed": true
   },
   "outputs": [],
   "source": [
    "from sklearn.feature_extraction.text import CountVectorizer, TfidfTransformer\n",
    "\n",
    "vectorizer = CountVectorizer(max_features=2000)\n",
    "vectorizer.fit(X_train)\n",
    "X_train_vecteur = vectorizer.transform(X_train)\n",
    "X_val_vecteur = vectorizer.transform(X_val)\n",
    "X_test_vecteur= vectorizer.transform(X_test)\n"
   ]
  },
  {
   "cell_type": "markdown",
   "metadata": {},
   "source": [
    "<br><b><font size=\"+1\" style=\"color:#e69900;\"><u>3.2.3) TF-IDF Representation : </u> </font></b>"
   ]
  },
  {
   "cell_type": "markdown",
   "metadata": {},
   "source": [
    "Après la séparation des données en 3 ensemble on doit transformer les textes en vecteurs, en s'appuyant\n",
    " sur la méthode CountVectorizer de sklearn. qui permet d'effectuer la convertion des documents texte en matrice contenant le nombre d'occurence de chaque symbole \n",
    " <br>Dans mon cas j'ai fixé les paramètres à 2000."
   ]
  },
  {
   "cell_type": "code",
   "execution_count": 159,
   "metadata": {
    "collapsed": true
   },
   "outputs": [],
   "source": [
    "tf_transformer = TfidfTransformer().fit(X_train_vecteur)\n",
    "\n",
    "X_train_tf = tf_transformer.transform(X_train_vecteur)\n",
    "X_val_tf = tf_transformer.transform(X_val_vecteur)\n",
    "X_test_tf = tf_transformer.transform(X_test_vecteur)"
   ]
  },
  {
   "cell_type": "markdown",
   "metadata": {},
   "source": [
    "<br><b><font size=\"+1\" style=\"color:#e69900;\"><u>3.2.4) Naive Bayes (Bag of word )  : </u> </font></b>"
   ]
  },
  {
   "cell_type": "markdown",
   "metadata": {},
   "source": [
    "j'ai choisi d'utiliser un algorithme de classification naïve Bayésienne simple car il est adapté à l'apprentissage supervisé, de plus il est simple à implementer et donne de bons résultats .\n",
    "\n"
   ]
  },
  {
   "cell_type": "code",
   "execution_count": 160,
   "metadata": {},
   "outputs": [
    {
     "name": "stdout",
     "output_type": "stream",
     "text": [
      "Precision(Phase de train) :  0.818573480134\n",
      "Precision(Phase de validation) :  0.734576757532\n",
      "Precision (Phase de test) :  0.729885057471 \n",
      "\n"
     ]
    }
   ],
   "source": [
    "from sklearn.naive_bayes import MultinomialNB\n",
    "from sklearn.metrics import accuracy_score, classification_report, confusion_matrix\n",
    "\n",
    "\n",
    "Multi_nb = MultinomialNB()\n",
    "Multi_nb.fit(X_train_vecteur,y_train)\n",
    "\n",
    "y_pred_train = Multi_nb.predict(X_train_vecteur)\n",
    "print(\"Precision(Phase de train) : \",accuracy_score(y_train,y_pred_train))\n",
    "\n",
    "y_pred_val = Multi_nb.predict(X_val_vecteur)\n",
    "print(\"Precision(Phase de validation) : \",accuracy_score(y_val,y_pred_val))\n",
    "\n",
    "y_pred_test = Multi_nb.predict(X_test_vecteur)\n",
    "print(\"Precision (Phase de test) : \",accuracy_score(y_test,y_pred_test),\"\\n\")\n"
   ]
  },
  {
   "cell_type": "markdown",
   "metadata": {},
   "source": [
    "<font size=\"+1.5\" style=\"color:#E25033;\">j'ai obtenu une precision de 72% sur les données de test en utilisant le classifieur de naïves bayes avec Bag of word</font>\n"
   ]
  },
  {
   "cell_type": "code",
   "execution_count": 163,
   "metadata": {},
   "outputs": [
    {
     "name": "stdout",
     "output_type": "stream",
     "text": [
      "               precision    recall  f1-score   support\n",
      "\n",
      "Advertisement       0.71      0.64      0.67        47\n",
      "        Email       0.97      0.96      0.96       119\n",
      "         Form       0.77      0.78      0.78        91\n",
      "       Letter       0.75      0.63      0.69       114\n",
      "         Memo       0.56      0.77      0.65       111\n",
      "         News       0.70      0.77      0.73        39\n",
      "         Note       0.46      0.31      0.37        36\n",
      "       Report       0.72      0.56      0.63        73\n",
      "       Resume       0.96      1.00      0.98        27\n",
      "   Scientific       0.60      0.67      0.63        39\n",
      "\n",
      "  avg / total       0.74      0.73      0.73       696\n",
      "\n",
      "[[ 30   0   1   0   8   2   4   1   0   1]\n",
      " [  0 114   0   1   4   0   0   0   0   0]\n",
      " [  7   0  71   1   5   0   4   1   0   2]\n",
      " [  0   0   1  72  23   2   2  10   0   4]\n",
      " [  2   2   1  13  86   2   1   1   0   3]\n",
      " [  3   0   1   0   1  30   1   1   0   2]\n",
      " [  0   2   7   2  12   1  11   1   0   0]\n",
      " [  0   0   3   7  12   3   1  41   1   5]\n",
      " [  0   0   0   0   0   0   0   0  27   0]\n",
      " [  0   0   7   0   2   3   0   1   0  26]]\n"
     ]
    }
   ],
   "source": [
    "print(classification_report(y_test,y_pred_test))\n",
    "print(confusion_matrix(y_test,y_pred_test))"
   ]
  },
  {
   "cell_type": "markdown",
   "metadata": {},
   "source": [
    "<br><br><br><b><font size=\"+1\" style=\"color:#e69900;\"><u>3.2.5) Naive Bayes (TF-IDF Representation )  : </u> </font></b>"
   ]
  },
  {
   "cell_type": "code",
   "execution_count": 164,
   "metadata": {},
   "outputs": [
    {
     "name": "stdout",
     "output_type": "stream",
     "text": [
      "Precision(Phase de train) : :  0.724748683581\n",
      "Precision(Phase de validation)t :  0.649928263989\n",
      "Precision(Phase de test) :  0.653735632184\n"
     ]
    }
   ],
   "source": [
    "Multi_nb.fit(X_train_tf, y_train)\n",
    "\n",
    "pred_train_tf = Multi_nb.predict(X_train_tf)\n",
    "pred_val_tf = Multi_nb.predict(X_val_tf)\n",
    "pred_test_tf = Multi_nb.predict(X_test_tf)\n",
    "\n",
    "\n",
    "\n",
    "print(\"Precision(Phase de train) : : \", accuracy_score(y_train, pred_train_tf))\n",
    "\n",
    "print(\"Precision(Phase de validation)t : \", accuracy_score(y_val, pred_val_tf))\n",
    "\n",
    "print(\"Precision(Phase de test) : \", accuracy_score(y_test, pred_test_tf))"
   ]
  },
  {
   "cell_type": "markdown",
   "metadata": {},
   "source": [
    "<font size=\"+1.5\" style=\"color:#E25033;\">j'ai obtenu une precision de 65% sur les données de test en utilisant le classifieur de naïves bayes avec TF-IDF Representation</font>\n"
   ]
  },
  {
   "cell_type": "code",
   "execution_count": 165,
   "metadata": {},
   "outputs": [
    {
     "name": "stdout",
     "output_type": "stream",
     "text": [
      "               precision    recall  f1-score   support\n",
      "\n",
      "Advertisement       0.91      0.45      0.60        47\n",
      "        Email       0.95      0.96      0.95       119\n",
      "         Form       0.73      0.80      0.76        91\n",
      "       Letter       0.58      0.67      0.62       114\n",
      "         Memo       0.43      0.93      0.59       111\n",
      "         News       0.88      0.38      0.54        39\n",
      "         Note       0.50      0.03      0.05        36\n",
      "       Report       0.67      0.03      0.05        73\n",
      "       Resume       0.96      1.00      0.98        27\n",
      "   Scientific       0.77      0.59      0.67        39\n",
      "\n",
      "  avg / total       0.71      0.65      0.61       696\n",
      "\n",
      "[[ 21   1   5   5  13   1   1   0   0   0]\n",
      " [  0 114   0   0   5   0   0   0   0   0]\n",
      " [  0   0  73   1  14   0   0   0   0   3]\n",
      " [  0   0   0  76  38   0   0   0   0   0]\n",
      " [  0   2   0   6 103   0   0   0   0   0]\n",
      " [  2   0   2  15   4  15   0   0   0   1]\n",
      " [  0   2  13   3  17   0   1   0   0   0]\n",
      " [  0   1   2  23  41   0   0   2   1   3]\n",
      " [  0   0   0   0   0   0   0   0  27   0]\n",
      " [  0   0   5   3   6   1   0   1   0  23]]\n"
     ]
    }
   ],
   "source": [
    "print(classification_report(y_test,pred_test_tf))\n",
    "print(confusion_matrix(y_test,pred_test_tf))"
   ]
  },
  {
   "cell_type": "markdown",
   "metadata": {},
   "source": [
    "<br><br><br><b><font size=\"+1\" style=\"color:#e69900;\"><u>3.2.6) Neural Network Classifier ( avec bag of word )  : </u> </font></b>"
   ]
  },
  {
   "cell_type": "code",
   "execution_count": 166,
   "metadata": {},
   "outputs": [
    {
     "name": "stdout",
     "output_type": "stream",
     "text": [
      "Iteration 1, loss = 3.05346430\n",
      "Iteration 2, loss = 1.68383383\n",
      "Iteration 3, loss = 1.22934294\n",
      "Iteration 4, loss = 1.03167982\n",
      "Iteration 5, loss = 0.92508756\n",
      "Iteration 6, loss = 0.86253036\n",
      "Iteration 7, loss = 0.82263200\n",
      "Iteration 8, loss = 0.79086775\n",
      "Iteration 9, loss = 0.77093732\n",
      "Iteration 10, loss = 0.76396284\n",
      "Iteration 11, loss = 0.76216121\n",
      "Iteration 12, loss = 0.76801630\n",
      "Iteration 13, loss = 0.75125973\n",
      "Iteration 14, loss = 0.73821793\n",
      "Iteration 15, loss = 0.72558279\n",
      "Iteration 16, loss = 0.72604594\n",
      "Iteration 17, loss = 0.72708056\n",
      "Iteration 18, loss = 0.72158990\n",
      "Iteration 19, loss = 0.72115525\n",
      "Iteration 20, loss = 0.73312165\n",
      "Iteration 21, loss = 0.73643530\n",
      "Iteration 22, loss = 0.72475279\n",
      "Training loss did not improve more than tol=0.000100 for two consecutive epochs. Stopping.\n",
      "Precision(Phase de train) :  0.962182862614\n",
      "Precision(Phase de validation) :  0.783357245337\n",
      "Precision(Phase de test):  0.781609195402\n"
     ]
    }
   ],
   "source": [
    "MLP = MLPClassifier(activation='relu', alpha=1.0, verbose=2, batch_size=50)\n",
    "\n",
    "MLP.fit(X_train_vecteur, y_train)\n",
    "\n",
    "pred_tmlp = MLP.predict(X_train_vecteur)\n",
    "pred_vmlp = MLP.predict(X_val_vecteur)\n",
    "pred_temlp = MLP.predict(X_test_vecteur)\n",
    "\n",
    "\n",
    "\n",
    "print(\"Precision(Phase de train) : \", accuracy_score(y_train, pred_tmlp))\n",
    "\n",
    "print(\"Precision(Phase de validation) : \", accuracy_score(y_val, pred_vmlp))\n",
    "\n",
    "print(\"Precision(Phase de test): \", accuracy_score(y_test, pred_temlp))"
   ]
  },
  {
   "cell_type": "markdown",
   "metadata": {},
   "source": [
    "<font size=\"+1.5\" style=\"color:#E25033;\"> Aprés 22 iteration j'ai obtenu une precision de 78% sur les données de test en utilisant le classifieur de Multi layer perceptron ( MLP) avec bag of word </font>\n"
   ]
  },
  {
   "cell_type": "markdown",
   "metadata": {},
   "source": [
    "<br><br><br><b><font size=\"+1\" style=\"color:#e69900;\"><u>3.2.7) Neural Network Classifier ( avec TF-IDF Representation )  : </u> </font></b>"
   ]
  },
  {
   "cell_type": "code",
   "execution_count": 167,
   "metadata": {},
   "outputs": [
    {
     "name": "stdout",
     "output_type": "stream",
     "text": [
      "               precision    recall  f1-score   support\n",
      "\n",
      "Advertisement       0.86      0.66      0.75        47\n",
      "        Email       0.98      0.97      0.97       119\n",
      "         Form       0.80      0.86      0.83        91\n",
      "       Letter       0.84      0.65      0.73       114\n",
      "         Memo       0.69      0.94      0.80       111\n",
      "         News       0.87      0.69      0.77        39\n",
      "         Note       0.52      0.75      0.61        36\n",
      "       Report       0.64      0.51      0.56        73\n",
      "       Resume       0.96      1.00      0.98        27\n",
      "   Scientific       0.62      0.62      0.62        39\n",
      "\n",
      "  avg / total       0.79      0.78      0.78       696\n",
      "\n",
      "[[ 31   0   2   0   0   1  11   1   0   1]\n",
      " [  0 115   0   1   3   0   0   0   0   0]\n",
      " [  2   0  78   0   3   0   7   0   0   1]\n",
      " [  0   2   2  74  24   1   1   8   0   2]\n",
      " [  1   0   0   2 104   0   1   0   0   3]\n",
      " [  2   0   0   0   1  27   2   5   0   2]\n",
      " [  0   0   6   0   2   0  27   0   0   1]\n",
      " [  0   0   5  11  12   2   0  37   1   5]\n",
      " [  0   0   0   0   0   0   0   0  27   0]\n",
      " [  0   0   4   0   1   0   3   7   0  24]]\n"
     ]
    }
   ],
   "source": [
    "print(classification_report(y_test, pred_temlp))\n",
    "print(confusion_matrix(y_test,pred_temlp))\n",
    "\n"
   ]
  },
  {
   "cell_type": "markdown",
   "metadata": {},
   "source": [
    "<font size=\"+1.5\" style=\"color:#E25033;\">j'ai obtenu une precision de 79% sur les données de test en utilisant le classifieur de Multi layer perceptron ( MLP) avec avec TF-IDF Representation</font>\n"
   ]
  },
  {
   "cell_type": "markdown",
   "metadata": {},
   "source": [
    "<br><br><br> <font size=\"+1.5\" style=\"color:#E25033;\">on remarque que MLP a de meilleures performances que Naive bayes</font>"
   ]
  },
  {
   "cell_type": "code",
   "execution_count": null,
   "metadata": {
    "collapsed": true
   },
   "outputs": [],
   "source": []
  }
 ],
 "metadata": {
  "kernelspec": {
   "display_name": "Python 3",
   "language": "python",
   "name": "python3"
  },
  "language_info": {
   "codemirror_mode": {
    "name": "ipython",
    "version": 3
   },
   "file_extension": ".py",
   "mimetype": "text/x-python",
   "name": "python",
   "nbconvert_exporter": "python",
   "pygments_lexer": "ipython3",
   "version": "3.6.3"
  }
 },
 "nbformat": 4,
 "nbformat_minor": 2
}
